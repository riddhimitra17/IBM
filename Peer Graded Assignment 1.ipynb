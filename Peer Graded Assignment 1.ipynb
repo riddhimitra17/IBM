{
 "cells": [
  {
   "cell_type": "markdown",
   "id": "da9e2ef6",
   "metadata": {},
   "source": [
    " # My Jupyter Notebook on IBM Watson Studio"
   ]
  },
  {
   "cell_type": "markdown",
   "id": "4b9b6769",
   "metadata": {},
   "source": [
    "**Riddhi Mitra**\n",
    "\n",
    "Student\n"
   ]
  },
  {
   "cell_type": "markdown",
   "id": "028c3c17",
   "metadata": {},
   "source": [
    "*I am interested in data science because I love to work with the insights present in the data*"
   ]
  },
  {
   "cell_type": "markdown",
   "id": "a4fa7005",
   "metadata": {},
   "source": [
    "## Following Code will Display today's time and date"
   ]
  },
  {
   "cell_type": "code",
   "execution_count": 1,
   "id": "d73ba0ef",
   "metadata": {},
   "outputs": [
    {
     "name": "stdout",
     "output_type": "stream",
     "text": [
      "Today's Date and Time is  2022-12-28 15:48:35.685775\n"
     ]
    }
   ],
   "source": [
    "import datetime \n",
    "message = \"Today's Date and Time is \" \n",
    "print (message , datetime.datetime.now() )"
   ]
  },
  {
   "cell_type": "markdown",
   "id": "5db9dd99",
   "metadata": {},
   "source": [
    "## My favorite fruits\n",
    "\n",
    "1. Apple\n",
    "2. Banana\n",
    "3. Orange\n",
    "4. Grapes\n",
    "\n",
    "Needs| Wants \n",
    "--- | --- \n",
    "*Water* |  **Car**\n",
    "*Food* |  **Phone**\n",
    "*Medicine* |  **Television**\n",
    "\n",
    "Check also this Jupiter notebooks cheatsheet [here](https://github.com/adam-p/markdown-here/wiki/Markdown-Here-Cheatsheet)"
   ]
  },
  {
   "cell_type": "code",
   "execution_count": null,
   "id": "6a4f6a51",
   "metadata": {},
   "outputs": [],
   "source": []
  },
  {
   "cell_type": "markdown",
   "id": "e508ab97",
   "metadata": {},
   "source": []
  }
 ],
 "metadata": {
  "kernelspec": {
   "display_name": "Python 3 (ipykernel)",
   "language": "python",
   "name": "python3"
  },
  "language_info": {
   "codemirror_mode": {
    "name": "ipython",
    "version": 3
   },
   "file_extension": ".py",
   "mimetype": "text/x-python",
   "name": "python",
   "nbconvert_exporter": "python",
   "pygments_lexer": "ipython3",
   "version": "3.9.12"
  }
 },
 "nbformat": 4,
 "nbformat_minor": 5
}
